{
 "cells": [
  {
   "cell_type": "markdown",
   "metadata": {},
   "source": [
    "<span>\n",
    "<img src=\"http://www.sobigdata.eu/sites/default/files/logo-SoBigData-DEFINITIVO.png\" width=\"180px\" align=\"right\"/>\n",
    "</span>\n",
    "<span>\n",
    "**Author:** Giulio Rossetti (giulio.rossetti@gmail.com)<br/>\n",
    "**Python version:**  3.6<br/>\n",
    "**Last update:** 22/01/2018\n",
    "</span>"
   ]
  },
  {
   "cell_type": "markdown",
   "metadata": {},
   "source": [
    "### 1. If-Else\n",
    "\n",
    "Write a Python program to check the sum of three elements is equal to a target value."
   ]
  },
  {
   "cell_type": "code",
   "execution_count": null,
   "metadata": {
    "collapsed": true
   },
   "outputs": [],
   "source": []
  },
  {
   "cell_type": "markdown",
   "metadata": {},
   "source": [
    "### 2. List Less Than \n",
    "\n",
    "Take a list, say for example this one:\n",
    "\n",
    "  a = [1, 1, 2, 3, 5, 8, 13, 21, 34, 55, 89]\n",
    "\n",
    "and write a program that prints out all the elements of the list that are less than 5.\n",
    "\n",
    "**Extras:**\n",
    "\n",
    "- Instead of printing the elements one by one, make a new list that has all the elements less than 5 from this list in it and print out this new list.\n",
    "- Write this in one line of Python."
   ]
  },
  {
   "cell_type": "code",
   "execution_count": null,
   "metadata": {
    "collapsed": true
   },
   "outputs": [],
   "source": []
  },
  {
   "cell_type": "markdown",
   "metadata": {},
   "source": [
    "### 3. List Filter\n",
    "Let’s say I give you a list saved in a variable: \n",
    "\n",
    " a = [1, 4, 9, 16, 25, 36, 49, 64, 81, 100]. \n",
    " \n",
    "Write a program that takes this list a and makes a new list that has only the even elements of this list in it.\n",
    "\n",
    "**Extras:**\n",
    "- write this in one line of Python"
   ]
  },
  {
   "cell_type": "code",
   "execution_count": null,
   "metadata": {
    "collapsed": true
   },
   "outputs": [],
   "source": []
  },
  {
   "cell_type": "markdown",
   "metadata": {},
   "source": [
    "### 4. List Overlap\n",
    "\n",
    "Take two lists, say for example these two:\n",
    "\n",
    "  a = [1, 1, 2, 3, 5, 8, 13, 21, 34, 55, 89]\n",
    "\n",
    "  b = [1, 2, 3, 4, 5, 6, 7, 8, 9, 10, 11, 12, 13]\n",
    "\n",
    "and write a function that returns a list that contains only the elements that are common between the lists (without duplicates). Make sure your program works on two lists of different sizes.\n",
    "\n",
    "**Extras:**\n",
    "\n",
    "- Write this in one line of Python "
   ]
  },
  {
   "cell_type": "code",
   "execution_count": null,
   "metadata": {
    "collapsed": true
   },
   "outputs": [],
   "source": []
  },
  {
   "cell_type": "markdown",
   "metadata": {},
   "source": [
    "### 5. Dictionaries\n",
    "\n",
    "Write python programs that:\n",
    "\n",
    "- iterate over dictionaries using for loops;\n",
    "- multiply all the values in a dictionary;\n",
    "- get the maximum and minimum value in a dictionary;"
   ]
  },
  {
   "cell_type": "code",
   "execution_count": null,
   "metadata": {
    "collapsed": true
   },
   "outputs": [],
   "source": []
  },
  {
   "cell_type": "markdown",
   "metadata": {},
   "source": [
    "### 6. Fibonacci\n",
    "\n",
    "Write a **function** that takes as parameter the number of Fibonnaci numbers to generate and then generates them. \n",
    "\n",
    "**Hint:** * The Fibonnaci seqence is a sequence of numbers where the next number in the sequence is the sum of the previous two numbers in the sequence. \n",
    "The sequence looks like this: 1, 1, 2, 3, 5, 8, 13, …)*"
   ]
  },
  {
   "cell_type": "code",
   "execution_count": null,
   "metadata": {
    "collapsed": true
   },
   "outputs": [],
   "source": []
  },
  {
   "cell_type": "markdown",
   "metadata": {},
   "source": [
    "### 7. Combined data structures\n",
    "\n",
    "Design a ``Rubric`` data structure that collects, for each person: name, email, phone, age.\n",
    "Populate the rubric with the following data:\n",
    "\n",
    "- Marco, marco@gmail.com, 12341245, 17\n",
    "- Andrea, andrea@fib.com, 11235813, 25\n",
    "- Irene, ir@ros.com, 98654310, 30\n",
    "- Chiara, cr@buch.com, 23412344, 24 \n",
    "\n",
    "The ``Rubric`` must be querable through the contact name."
   ]
  },
  {
   "cell_type": "code",
   "execution_count": null,
   "metadata": {
    "collapsed": true
   },
   "outputs": [],
   "source": []
  },
  {
   "cell_type": "markdown",
   "metadata": {},
   "source": [
    "### 8. Combined data structure 2 (find and I\\O)\n",
    "\n",
    "- Identify all those ``Rubric`` contacts whose age is in the range [18, 25]\n",
    "- Identify all those ``Rubric`` contacts whose age is in the range [18, 25] and are female\n",
    "- Save the content of ``Rubric`` in a csv file\n",
    "- Read the content of the previously saved csv file and build a copy of ``Rubric``"
   ]
  },
  {
   "cell_type": "code",
   "execution_count": null,
   "metadata": {
    "collapsed": true
   },
   "outputs": [],
   "source": []
  }
 ],
 "metadata": {
  "kernelspec": {
   "display_name": "Python [conda env:Python36]",
   "language": "python",
   "name": "conda-env-Python36-py"
  },
  "language_info": {
   "codemirror_mode": {
    "name": "ipython",
    "version": 3
   },
   "file_extension": ".py",
   "mimetype": "text/x-python",
   "name": "python",
   "nbconvert_exporter": "python",
   "pygments_lexer": "ipython3",
   "version": "3.6.2"
  }
 },
 "nbformat": 4,
 "nbformat_minor": 1
}
