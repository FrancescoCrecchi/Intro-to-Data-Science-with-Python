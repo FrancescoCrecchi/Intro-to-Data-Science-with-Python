{
 "cells": [
  {
   "cell_type": "markdown",
   "metadata": {},
   "source": [
    "<span>\n",
    "<img src=\"http://ndlib.readthedocs.io/en/latest/_static/ndlogo2.png\" align=\"left\" />\n",
    "</span>\n",
    "<span>\n",
    "<img src=\"http://www.sobigdata.eu/sites/default/files/logo-SoBigData-DEFINITIVO.png\" width=\"130px\" align=\"right\"/>\n",
    "</span>"
   ]
  },
  {
   "cell_type": "markdown",
   "metadata": {},
   "source": [
    "# NDlib-REST tutorial\n",
    "Remote experiment definition and execution"
   ]
  },
  {
   "cell_type": "markdown",
   "metadata": {},
   "source": [
    "### Setup the Experiment Server"
   ]
  },
  {
   "cell_type": "markdown",
   "metadata": {},
   "source": [
    "**1)** Move to the working directory"
   ]
  },
  {
   "cell_type": "code",
   "execution_count": null,
   "metadata": {
    "collapsed": true
   },
   "outputs": [],
   "source": [
    "!rm -rf ndlib-rest"
   ]
  },
  {
   "cell_type": "markdown",
   "metadata": {},
   "source": [
    "**2)** Clone the NDlib-REST server project from GitHub "
   ]
  },
  {
   "cell_type": "code",
   "execution_count": null,
   "metadata": {},
   "outputs": [],
   "source": [
    "!git clone https://github.com/GiulioRossetti/ndlib-rest.git > /dev/null"
   ]
  },
  {
   "cell_type": "markdown",
   "metadata": {},
   "source": [
    "**3)** Start the REST server"
   ]
  },
  {
   "cell_type": "code",
   "execution_count": null,
   "metadata": {
    "scrolled": false
   },
   "outputs": [],
   "source": [
    "%cd ndlib-rest/\n",
    "import subprocess as sub\n",
    "sub.call('./gunicorn.sh', shell=True)"
   ]
  },
  {
   "cell_type": "markdown",
   "metadata": {},
   "source": [
    "### Client for remote experiment setup"
   ]
  },
  {
   "cell_type": "markdown",
   "metadata": {},
   "source": [
    "**NDlibClient** provides a python wrapper around the endpont calls offered by **NDlib-REST**. <br/>\n",
    "For endpoint parameters specs refer to the <a href=\"/docs\">Service API</a>."
   ]
  },
  {
   "cell_type": "code",
   "execution_count": 43,
   "metadata": {
    "collapsed": true
   },
   "outputs": [],
   "source": [
    "from client.NDlibClient import NDlibClient"
   ]
  },
  {
   "cell_type": "markdown",
   "metadata": {},
   "source": [
    "**1)** Specify the base url of the server exposing the rest API"
   ]
  },
  {
   "cell_type": "code",
   "execution_count": 44,
   "metadata": {
    "collapsed": true
   },
   "outputs": [],
   "source": [
    "exp = NDlibClient(\"http://127.0.0.1:5000\")"
   ]
  },
  {
   "cell_type": "markdown",
   "metadata": {},
   "source": [
    "**2)** Create an experiment"
   ]
  },
  {
   "cell_type": "code",
   "execution_count": 45,
   "metadata": {
    "collapsed": true
   },
   "outputs": [],
   "source": [
    "exp.create_experiment()"
   ]
  },
  {
   "cell_type": "markdown",
   "metadata": {},
   "source": [
    "**3)** Add a graph resource to the experiment"
   ]
  },
  {
   "cell_type": "code",
   "execution_count": 46,
   "metadata": {
    "collapsed": true
   },
   "outputs": [],
   "source": [
    "resp = exp.add_erdos_renyi_graph(1000, 0.1)"
   ]
  },
  {
   "cell_type": "markdown",
   "metadata": {},
   "source": [
    "**4)** Add one or more diffusion models to the experiment"
   ]
  },
  {
   "cell_type": "code",
   "execution_count": 47,
   "metadata": {
    "collapsed": true
   },
   "outputs": [],
   "source": [
    "resp = exp.add_SIR(infected=0.01, beta=0.001, gamma=0.09)"
   ]
  },
  {
   "cell_type": "markdown",
   "metadata": {},
   "source": [
    "**5)** Execute the simulation"
   ]
  },
  {
   "cell_type": "code",
   "execution_count": 48,
   "metadata": {
    "collapsed": true
   },
   "outputs": [],
   "source": [
    "it = exp.get_iteration_bunch(bunch=15)"
   ]
  },
  {
   "cell_type": "markdown",
   "metadata": {},
   "source": [
    "**6)** Analyze the results"
   ]
  },
  {
   "cell_type": "code",
   "execution_count": 49,
   "metadata": {
    "collapsed": true
   },
   "outputs": [],
   "source": [
    "models = it.keys()"
   ]
  },
  {
   "cell_type": "code",
   "execution_count": 50,
   "metadata": {},
   "outputs": [
    {
     "name": "stdout",
     "output_type": "stream",
     "text": [
      "Model: SIR_0\n",
      "\n",
      "Iteration: 0\t Infected: 10\t Susceptible: 990\t Removed: 0\n",
      "Iteration: 1\t Infected: 10\t Susceptible: 989\t Removed: 1\n",
      "Iteration: 2\t Infected: 9\t Susceptible: 989\t Removed: 2\n",
      "Iteration: 3\t Infected: 10\t Susceptible: 988\t Removed: 2\n",
      "Iteration: 4\t Infected: 9\t Susceptible: 987\t Removed: 4\n",
      "Iteration: 5\t Infected: 10\t Susceptible: 986\t Removed: 4\n",
      "Iteration: 6\t Infected: 12\t Susceptible: 983\t Removed: 5\n",
      "Iteration: 7\t Infected: 12\t Susceptible: 980\t Removed: 8\n",
      "Iteration: 8\t Infected: 12\t Susceptible: 978\t Removed: 10\n",
      "Iteration: 9\t Infected: 11\t Susceptible: 978\t Removed: 11\n",
      "Iteration: 10\t Infected: 10\t Susceptible: 978\t Removed: 12\n",
      "Iteration: 11\t Infected: 10\t Susceptible: 978\t Removed: 12\n",
      "Iteration: 12\t Infected: 8\t Susceptible: 978\t Removed: 14\n",
      "Iteration: 13\t Infected: 8\t Susceptible: 978\t Removed: 14\n",
      "Iteration: 14\t Infected: 8\t Susceptible: 978\t Removed: 14\n"
     ]
    }
   ],
   "source": [
    "for m in models:\n",
    "    print(\"Model: %s\\n\" % m)\n",
    "    for i in range(0, len(it[m])):\n",
    "        print(\"Iteration: %s\\t Infected: %s\\t Susceptible: %s\\t Removed: %s\" % (it[m][i]['iteration'], \n",
    "         it[m][i]['node_count']['1'], \n",
    "         it[m][i]['node_count']['0'], \n",
    "         it[m][i]['node_count']['2']))"
   ]
  },
  {
   "cell_type": "markdown",
   "metadata": {},
   "source": [
    "**7)** Destroy the experiment and free the assigned resources"
   ]
  },
  {
   "cell_type": "code",
   "execution_count": null,
   "metadata": {
    "collapsed": true
   },
   "outputs": [],
   "source": [
    "resp = exp.destroy_experiment()"
   ]
  },
  {
   "cell_type": "code",
   "execution_count": null,
   "metadata": {
    "collapsed": true
   },
   "outputs": [],
   "source": []
  }
 ],
 "metadata": {
  "kernelspec": {
   "display_name": "Python 3",
   "language": "python",
   "name": "python3"
  },
  "language_info": {
   "codemirror_mode": {
    "name": "ipython",
    "version": 3
   },
   "file_extension": ".py",
   "mimetype": "text/x-python",
   "name": "python",
   "nbconvert_exporter": "python",
   "pygments_lexer": "ipython3",
   "version": "3.6.2"
  }
 },
 "nbformat": 4,
 "nbformat_minor": 1
}
